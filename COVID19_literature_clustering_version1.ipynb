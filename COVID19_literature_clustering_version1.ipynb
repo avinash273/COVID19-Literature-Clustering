{
 "cells": [
  {
   "cell_type": "markdown",
   "metadata": {},
   "source": [
    "# COVID-19 Literature Clustering"
   ]
  },
  {
   "attachments": {},
   "cell_type": "markdown",
   "metadata": {},
   "source": [
    "# Goal\n",
    "Given the large number of research literature and the rapid spread of COVID-19, it is difficult for health professionals to keep up with new information on the virus. So, clustering similar research articles together can simplify the search for related publications. By using clustering for labelling in combination with dimensionality reduction for visualization, the collection of literature can be represented by a scatter plot.\n",
    "\n",
    "On this plot, publications of highly similar topic will share a label and will be plotted near each other. In order, to find meaning in the clusters, topic modelling will be performed to find the keywords of each cluster. By using Bokeh, the plot will be interactive. User’s will have the option of seeing the plot as a whole or filtering the data by cluster.\n",
    "\n",
    "If a narrower scope is required, the plot will also have a search function which will limit the output to only papers containing the search term. Hovering over points on the plot will give basic information like title, author, journal, and abstract. Clicking on a point will bring up a menu with a URL that can be used to access the full publication.\n",
    "\n",
    "The fundamental purpose is to make it easier for trained professionals to sift through many, many publications related to the virus, and find their own determinations using the CORD-19 dataset.\n",
    "<br>\n",
    "<br>"
   ]
  },
  {
   "cell_type": "markdown",
   "metadata": {},
   "source": [
    "# Approach:\n",
    "- Parse the text from the body of each document using Natural Language Processing.\n",
    "- Turn each document instance into a feature vector $X_i$ using Term Frequency–inverse Document Frequency.\n",
    "- Apply Dimensionality Reduction to each feature vector using t-Distributed Stochastic Neighbor Embedding to cluster similar research articles in the two dimensional plane.\n",
    "- Use Principal Component Analysis (PCA) to project down the dimensions of $X$ to a number of dimensions that will keep .95 variance while removing noise and outliers.\n",
    "- Apply k-means clustering where $k$ value is to determined by elbow method or Silhouette Algorithm to label each cluster.\n",
    "- Apply Topic Modeling on $X$ using Latent Dirichlet Allocation (LDA) to discover keywords from each cluster. \n",
    "- Investigate the clusters visually on the plot, zooming down to specific articles as needed, and via classification using Stochastic Gradient Descent (SGD). \n",
    "<br>\n",
    "<br>"
   ]
  },
  {
   "cell_type": "markdown",
   "metadata": {},
   "source": [
    "# Table of Contents(So Far)\n",
    "1. Loading the data\n",
    "2. Pre-processing\n",
    "3. Vectorization\n",
    "\n",
    "<br>\n",
    "<br>"
   ]
  },
  {
   "cell_type": "markdown",
   "metadata": {},
   "source": [
    "### Dataset Description\n",
    "\n",
    ">In response to the COVID-19 pandemic, the White House and a coalition of leading research groups have prepared the COVID-19 Open Research Dataset (CORD-19). CORD-19 is a resource of over 51,000 scholarly articles, including over 40,000 with full text, about COVID-19, SARS-CoV-2, and related coronaviruses. This freely available dataset is provided to the global research community to apply recent advances in natural language processing and other AI techniques to generate new insights in support of the ongoing fight against this infectious disease. There is a growing urgency for these approaches because of the rapid acceleration in new coronavirus literature, making it difficult for the medical research community to keep up.\n",
    ">#### Cite: [COVID-19 Open Research Dataset Challenge (CORD-19) | Kaggle](https://www.kaggle.com/allen-institute-for-ai/CORD-19-research-challenge)\n",
    "\n",
    "<br>\n",
    "<br>"
   ]
  },
  {
   "cell_type": "markdown",
   "metadata": {},
   "source": [
    "# Loading the Data\n",
    "Load the data following the notebook by Ivan Ega Pratama, from Kaggle.\n",
    "#### Cite: [Dataset Parsing Code | Kaggle, COVID EDA: Initial Exploration Tool](https://www.kaggle.com/ivanegapratama/covid-eda-initial-exploration-tool)"
   ]
  },
  {
   "cell_type": "markdown",
   "metadata": {},
   "source": [
    "### Loading Metadata"
   ]
  },
  {
   "cell_type": "code",
   "execution_count": 1,
   "metadata": {},
   "outputs": [],
   "source": [
    "import numpy as np # linear algebra\n",
    "import pandas as pd # data processing, CSV file I/O (e.g. pd.read_csv)\n",
    "import glob\n",
    "import json\n",
    "import matplotlib.pyplot as plt"
   ]
  },
  {
   "cell_type": "markdown",
   "metadata": {},
   "source": [
    "Let's load the metadata of the dateset. 'title' and 'journal' attributes may be useful later when we cluster the articles to see what kinds of articles cluster together."
   ]
  },
  {
   "cell_type": "code",
   "execution_count": 2,
   "metadata": {},
   "outputs": [
    {
     "name": "stderr",
     "output_type": "stream",
     "text": [
      "/Users/avinashshanker/opt/anaconda3/lib/python3.7/site-packages/IPython/core/interactiveshell.py:3058: DtypeWarning: Columns (1,5,13,14,15,16) have mixed types. Specify dtype option on import or set low_memory=False.\n",
      "  interactivity=interactivity, compiler=compiler, result=result)\n"
     ]
    },
    {
     "data": {
      "text/html": [
       "<div>\n",
       "<style scoped>\n",
       "    .dataframe tbody tr th:only-of-type {\n",
       "        vertical-align: middle;\n",
       "    }\n",
       "\n",
       "    .dataframe tbody tr th {\n",
       "        vertical-align: top;\n",
       "    }\n",
       "\n",
       "    .dataframe thead th {\n",
       "        text-align: right;\n",
       "    }\n",
       "</style>\n",
       "<table border=\"1\" class=\"dataframe\">\n",
       "  <thead>\n",
       "    <tr style=\"text-align: right;\">\n",
       "      <th></th>\n",
       "      <th>cord_uid</th>\n",
       "      <th>sha</th>\n",
       "      <th>source_x</th>\n",
       "      <th>title</th>\n",
       "      <th>doi</th>\n",
       "      <th>pmcid</th>\n",
       "      <th>pubmed_id</th>\n",
       "      <th>license</th>\n",
       "      <th>abstract</th>\n",
       "      <th>publish_time</th>\n",
       "      <th>authors</th>\n",
       "      <th>journal</th>\n",
       "      <th>mag_id</th>\n",
       "      <th>who_covidence_id</th>\n",
       "      <th>arxiv_id</th>\n",
       "      <th>pdf_json_files</th>\n",
       "      <th>pmc_json_files</th>\n",
       "      <th>url</th>\n",
       "      <th>s2_id</th>\n",
       "    </tr>\n",
       "  </thead>\n",
       "  <tbody>\n",
       "    <tr>\n",
       "      <th>0</th>\n",
       "      <td>ug7v899j</td>\n",
       "      <td>d1aafb70c066a2068b02786f8929fd9c900897fb</td>\n",
       "      <td>PMC</td>\n",
       "      <td>Clinical features of culture-proven Mycoplasma...</td>\n",
       "      <td>10.1186/1471-2334-1-6</td>\n",
       "      <td>PMC35282</td>\n",
       "      <td>11472636</td>\n",
       "      <td>no-cc</td>\n",
       "      <td>OBJECTIVE: This retrospective chart review des...</td>\n",
       "      <td>2001-07-04</td>\n",
       "      <td>Madani, Tariq A; Al-Ghamdi, Aisha A</td>\n",
       "      <td>BMC Infect Dis</td>\n",
       "      <td>NaN</td>\n",
       "      <td>NaN</td>\n",
       "      <td>NaN</td>\n",
       "      <td>document_parses/pdf_json/d1aafb70c066a2068b027...</td>\n",
       "      <td>document_parses/pmc_json/PMC35282.xml.json</td>\n",
       "      <td>https://www.ncbi.nlm.nih.gov/pmc/articles/PMC3...</td>\n",
       "      <td>NaN</td>\n",
       "    </tr>\n",
       "    <tr>\n",
       "      <th>1</th>\n",
       "      <td>02tnwd4m</td>\n",
       "      <td>6b0567729c2143a66d737eb0a2f63f2dce2e5a7d</td>\n",
       "      <td>PMC</td>\n",
       "      <td>Nitric oxide: a pro-inflammatory mediator in l...</td>\n",
       "      <td>10.1186/rr14</td>\n",
       "      <td>PMC59543</td>\n",
       "      <td>11667967</td>\n",
       "      <td>no-cc</td>\n",
       "      <td>Inflammatory diseases of the respiratory tract...</td>\n",
       "      <td>2000-08-15</td>\n",
       "      <td>Vliet, Albert van der; Eiserich, Jason P; Cros...</td>\n",
       "      <td>Respir Res</td>\n",
       "      <td>NaN</td>\n",
       "      <td>NaN</td>\n",
       "      <td>NaN</td>\n",
       "      <td>document_parses/pdf_json/6b0567729c2143a66d737...</td>\n",
       "      <td>document_parses/pmc_json/PMC59543.xml.json</td>\n",
       "      <td>https://www.ncbi.nlm.nih.gov/pmc/articles/PMC5...</td>\n",
       "      <td>NaN</td>\n",
       "    </tr>\n",
       "    <tr>\n",
       "      <th>2</th>\n",
       "      <td>ejv2xln0</td>\n",
       "      <td>06ced00a5fc04215949aa72528f2eeaae1d58927</td>\n",
       "      <td>PMC</td>\n",
       "      <td>Surfactant protein-D and pulmonary host defense</td>\n",
       "      <td>10.1186/rr19</td>\n",
       "      <td>PMC59549</td>\n",
       "      <td>11667972</td>\n",
       "      <td>no-cc</td>\n",
       "      <td>Surfactant protein-D (SP-D) participates in th...</td>\n",
       "      <td>2000-08-25</td>\n",
       "      <td>Crouch, Erika C</td>\n",
       "      <td>Respir Res</td>\n",
       "      <td>NaN</td>\n",
       "      <td>NaN</td>\n",
       "      <td>NaN</td>\n",
       "      <td>document_parses/pdf_json/06ced00a5fc04215949aa...</td>\n",
       "      <td>document_parses/pmc_json/PMC59549.xml.json</td>\n",
       "      <td>https://www.ncbi.nlm.nih.gov/pmc/articles/PMC5...</td>\n",
       "      <td>NaN</td>\n",
       "    </tr>\n",
       "    <tr>\n",
       "      <th>3</th>\n",
       "      <td>2b73a28n</td>\n",
       "      <td>348055649b6b8cf2b9a376498df9bf41f7123605</td>\n",
       "      <td>PMC</td>\n",
       "      <td>Role of endothelin-1 in lung disease</td>\n",
       "      <td>10.1186/rr44</td>\n",
       "      <td>PMC59574</td>\n",
       "      <td>11686871</td>\n",
       "      <td>no-cc</td>\n",
       "      <td>Endothelin-1 (ET-1) is a 21 amino acid peptide...</td>\n",
       "      <td>2001-02-22</td>\n",
       "      <td>Fagan, Karen A; McMurtry, Ivan F; Rodman, David M</td>\n",
       "      <td>Respir Res</td>\n",
       "      <td>NaN</td>\n",
       "      <td>NaN</td>\n",
       "      <td>NaN</td>\n",
       "      <td>document_parses/pdf_json/348055649b6b8cf2b9a37...</td>\n",
       "      <td>document_parses/pmc_json/PMC59574.xml.json</td>\n",
       "      <td>https://www.ncbi.nlm.nih.gov/pmc/articles/PMC5...</td>\n",
       "      <td>NaN</td>\n",
       "    </tr>\n",
       "    <tr>\n",
       "      <th>4</th>\n",
       "      <td>9785vg6d</td>\n",
       "      <td>5f48792a5fa08bed9f56016f4981ae2ca6031b32</td>\n",
       "      <td>PMC</td>\n",
       "      <td>Gene expression in epithelial cells in respons...</td>\n",
       "      <td>10.1186/rr61</td>\n",
       "      <td>PMC59580</td>\n",
       "      <td>11686888</td>\n",
       "      <td>no-cc</td>\n",
       "      <td>Respiratory syncytial virus (RSV) and pneumoni...</td>\n",
       "      <td>2001-05-11</td>\n",
       "      <td>Domachowske, Joseph B; Bonville, Cynthia A; Ro...</td>\n",
       "      <td>Respir Res</td>\n",
       "      <td>NaN</td>\n",
       "      <td>NaN</td>\n",
       "      <td>NaN</td>\n",
       "      <td>document_parses/pdf_json/5f48792a5fa08bed9f560...</td>\n",
       "      <td>document_parses/pmc_json/PMC59580.xml.json</td>\n",
       "      <td>https://www.ncbi.nlm.nih.gov/pmc/articles/PMC5...</td>\n",
       "      <td>NaN</td>\n",
       "    </tr>\n",
       "  </tbody>\n",
       "</table>\n",
       "</div>"
      ],
      "text/plain": [
       "   cord_uid                                       sha source_x  \\\n",
       "0  ug7v899j  d1aafb70c066a2068b02786f8929fd9c900897fb      PMC   \n",
       "1  02tnwd4m  6b0567729c2143a66d737eb0a2f63f2dce2e5a7d      PMC   \n",
       "2  ejv2xln0  06ced00a5fc04215949aa72528f2eeaae1d58927      PMC   \n",
       "3  2b73a28n  348055649b6b8cf2b9a376498df9bf41f7123605      PMC   \n",
       "4  9785vg6d  5f48792a5fa08bed9f56016f4981ae2ca6031b32      PMC   \n",
       "\n",
       "                                               title                    doi  \\\n",
       "0  Clinical features of culture-proven Mycoplasma...  10.1186/1471-2334-1-6   \n",
       "1  Nitric oxide: a pro-inflammatory mediator in l...           10.1186/rr14   \n",
       "2    Surfactant protein-D and pulmonary host defense           10.1186/rr19   \n",
       "3               Role of endothelin-1 in lung disease           10.1186/rr44   \n",
       "4  Gene expression in epithelial cells in respons...           10.1186/rr61   \n",
       "\n",
       "      pmcid pubmed_id license  \\\n",
       "0  PMC35282  11472636   no-cc   \n",
       "1  PMC59543  11667967   no-cc   \n",
       "2  PMC59549  11667972   no-cc   \n",
       "3  PMC59574  11686871   no-cc   \n",
       "4  PMC59580  11686888   no-cc   \n",
       "\n",
       "                                            abstract publish_time  \\\n",
       "0  OBJECTIVE: This retrospective chart review des...   2001-07-04   \n",
       "1  Inflammatory diseases of the respiratory tract...   2000-08-15   \n",
       "2  Surfactant protein-D (SP-D) participates in th...   2000-08-25   \n",
       "3  Endothelin-1 (ET-1) is a 21 amino acid peptide...   2001-02-22   \n",
       "4  Respiratory syncytial virus (RSV) and pneumoni...   2001-05-11   \n",
       "\n",
       "                                             authors         journal  mag_id  \\\n",
       "0                Madani, Tariq A; Al-Ghamdi, Aisha A  BMC Infect Dis     NaN   \n",
       "1  Vliet, Albert van der; Eiserich, Jason P; Cros...      Respir Res     NaN   \n",
       "2                                    Crouch, Erika C      Respir Res     NaN   \n",
       "3  Fagan, Karen A; McMurtry, Ivan F; Rodman, David M      Respir Res     NaN   \n",
       "4  Domachowske, Joseph B; Bonville, Cynthia A; Ro...      Respir Res     NaN   \n",
       "\n",
       "  who_covidence_id arxiv_id  \\\n",
       "0              NaN      NaN   \n",
       "1              NaN      NaN   \n",
       "2              NaN      NaN   \n",
       "3              NaN      NaN   \n",
       "4              NaN      NaN   \n",
       "\n",
       "                                      pdf_json_files  \\\n",
       "0  document_parses/pdf_json/d1aafb70c066a2068b027...   \n",
       "1  document_parses/pdf_json/6b0567729c2143a66d737...   \n",
       "2  document_parses/pdf_json/06ced00a5fc04215949aa...   \n",
       "3  document_parses/pdf_json/348055649b6b8cf2b9a37...   \n",
       "4  document_parses/pdf_json/5f48792a5fa08bed9f560...   \n",
       "\n",
       "                               pmc_json_files  \\\n",
       "0  document_parses/pmc_json/PMC35282.xml.json   \n",
       "1  document_parses/pmc_json/PMC59543.xml.json   \n",
       "2  document_parses/pmc_json/PMC59549.xml.json   \n",
       "3  document_parses/pmc_json/PMC59574.xml.json   \n",
       "4  document_parses/pmc_json/PMC59580.xml.json   \n",
       "\n",
       "                                                 url  s2_id  \n",
       "0  https://www.ncbi.nlm.nih.gov/pmc/articles/PMC3...    NaN  \n",
       "1  https://www.ncbi.nlm.nih.gov/pmc/articles/PMC5...    NaN  \n",
       "2  https://www.ncbi.nlm.nih.gov/pmc/articles/PMC5...    NaN  \n",
       "3  https://www.ncbi.nlm.nih.gov/pmc/articles/PMC5...    NaN  \n",
       "4  https://www.ncbi.nlm.nih.gov/pmc/articles/PMC5...    NaN  "
      ]
     },
     "execution_count": 2,
     "metadata": {},
     "output_type": "execute_result"
    }
   ],
   "source": [
    "root_path = '/Users/avinashshanker/Desktop/UTAMasters/DataMining/COVID19-Literature-Clustering-master/data/'\n",
    "metadata_path = f'{root_path}/metadata.csv'\n",
    "plt.style.use('ggplot')\n",
    "meta_df = pd.read_csv(metadata_path, dtype={\n",
    "    'pubmed_id': str,\n",
    "    'Microsoft Academic Paper ID': str, \n",
    "    'doi': str\n",
    "})\n",
    "meta_df.head()"
   ]
  },
  {
   "cell_type": "code",
   "execution_count": 3,
   "metadata": {},
   "outputs": [
    {
     "name": "stdout",
     "output_type": "stream",
     "text": [
      "<class 'pandas.core.frame.DataFrame'>\n",
      "RangeIndex: 210537 entries, 0 to 210536\n",
      "Data columns (total 19 columns):\n",
      "cord_uid            210537 non-null object\n",
      "sha                 88257 non-null object\n",
      "source_x            210537 non-null object\n",
      "title               210481 non-null object\n",
      "doi                 148804 non-null object\n",
      "pmcid               93453 non-null object\n",
      "pubmed_id           125599 non-null object\n",
      "license             210537 non-null object\n",
      "abstract            149527 non-null object\n",
      "publish_time        210519 non-null object\n",
      "authors             203810 non-null object\n",
      "journal             198453 non-null object\n",
      "mag_id              0 non-null float64\n",
      "who_covidence_id    59405 non-null object\n",
      "arxiv_id            2844 non-null object\n",
      "pdf_json_files      88257 non-null object\n",
      "pmc_json_files      68191 non-null object\n",
      "url                 163141 non-null object\n",
      "s2_id               181154 non-null float64\n",
      "dtypes: float64(2), object(17)\n",
      "memory usage: 30.5+ MB\n"
     ]
    }
   ],
   "source": [
    "meta_df.info()"
   ]
  },
  {
   "cell_type": "markdown",
   "metadata": {},
   "source": [
    "### Fetch All of JSON File Path"
   ]
  },
  {
   "cell_type": "markdown",
   "metadata": {},
   "source": [
    "Here, I am getting all the JSON files"
   ]
  },
  {
   "cell_type": "code",
   "execution_count": 4,
   "metadata": {},
   "outputs": [
    {
     "data": {
      "text/plain": [
       "294"
      ]
     },
     "execution_count": 4,
     "metadata": {},
     "output_type": "execute_result"
    }
   ],
   "source": [
    "all_json = glob.glob(f'{root_path}/**/*.json', recursive=True)\n",
    "len(all_json)"
   ]
  },
  {
   "cell_type": "markdown",
   "metadata": {},
   "source": [
    "### Helper Functions Declarations\n",
    "1. Here, JSON files are parsed\n",
    "2. Then FileReader function return paperID, abstract and its body"
   ]
  },
  {
   "cell_type": "code",
   "execution_count": 5,
   "metadata": {},
   "outputs": [
    {
     "name": "stdout",
     "output_type": "stream",
     "text": [
      "041428cc59d31e9134431bc93eb0493db0a22187: ... for patients with confirmed and (vi) the variability in assessing the number of deaths per day, for example the number of deaths mentioned in France corresponds to the number of deaths in hospital. Wh...\n"
     ]
    }
   ],
   "source": [
    "class FileReader:\n",
    "    def __init__(self, file_path):\n",
    "        with open(file_path) as file:\n",
    "            content = json.load(file)\n",
    "            self.paper_id = content['paper_id']\n",
    "            self.abstract = []\n",
    "            self.body_text = []\n",
    "            # Abstract\n",
    "            for entry in content['abstract']:\n",
    "                self.abstract.append(entry['text'])\n",
    "            # Body text\n",
    "            for entry in content['body_text']:\n",
    "                self.body_text.append(entry['text'])\n",
    "            self.abstract = '\\n'.join(self.abstract)\n",
    "            self.body_text = '\\n'.join(self.body_text)\n",
    "    def __repr__(self):\n",
    "        return f'{self.paper_id}: {self.abstract[:200]}... {self.body_text[:200]}...'\n",
    "first_row = FileReader(all_json[0])\n",
    "print(first_row)"
   ]
  },
  {
   "cell_type": "markdown",
   "metadata": {},
   "source": [
    "##### More Helper Functions\n",
    "1. Helper function adds break after every n words using an html tag for break\n",
    "\n",
    "2. This is for the interactive plot so that hover tool fits the screen"
   ]
  },
  {
   "cell_type": "code",
   "execution_count": 6,
   "metadata": {},
   "outputs": [],
   "source": [
    "def get_breaks(content, length):\n",
    "    data = \"\"\n",
    "    words = content.split(' ')\n",
    "    total_chars = 0\n",
    "\n",
    "    # add break every length characters\n",
    "    for i in range(len(words)):\n",
    "        total_chars += len(words[i])\n",
    "        if total_chars > length:\n",
    "            data = data + \"<br>\" + words[i]\n",
    "            total_chars = 0\n",
    "        else:\n",
    "            data = data + \" \" + words[i]\n",
    "    return data"
   ]
  },
  {
   "cell_type": "markdown",
   "metadata": {},
   "source": [
    "## Load the Data into DataFrame"
   ]
  },
  {
   "cell_type": "markdown",
   "metadata": {},
   "source": [
    "Using the helper functions, let's read in the articles into a DataFrame that can be used easily:"
   ]
  },
  {
   "cell_type": "code",
   "execution_count": 7,
   "metadata": {},
   "outputs": [
    {
     "name": "stdout",
     "output_type": "stream",
     "text": [
      "Processing index: 0 of 294\n",
      "Processing index: 29 of 294\n",
      "Processing index: 58 of 294\n",
      "Processing index: 87 of 294\n",
      "Processing index: 116 of 294\n",
      "Processing index: 145 of 294\n",
      "Processing index: 174 of 294\n",
      "Processing index: 203 of 294\n",
      "Processing index: 232 of 294\n",
      "Processing index: 261 of 294\n",
      "Processing index: 290 of 294\n"
     ]
    },
    {
     "data": {
      "text/html": [
       "<div>\n",
       "<style scoped>\n",
       "    .dataframe tbody tr th:only-of-type {\n",
       "        vertical-align: middle;\n",
       "    }\n",
       "\n",
       "    .dataframe tbody tr th {\n",
       "        vertical-align: top;\n",
       "    }\n",
       "\n",
       "    .dataframe thead th {\n",
       "        text-align: right;\n",
       "    }\n",
       "</style>\n",
       "<table border=\"1\" class=\"dataframe\">\n",
       "  <thead>\n",
       "    <tr style=\"text-align: right;\">\n",
       "      <th></th>\n",
       "      <th>paper_id</th>\n",
       "      <th>doi</th>\n",
       "      <th>abstract</th>\n",
       "      <th>body_text</th>\n",
       "      <th>authors</th>\n",
       "      <th>title</th>\n",
       "      <th>journal</th>\n",
       "      <th>abstract_summary</th>\n",
       "    </tr>\n",
       "  </thead>\n",
       "  <tbody>\n",
       "    <tr>\n",
       "      <th>0</th>\n",
       "      <td>041428cc59d31e9134431bc93eb0493db0a22187</td>\n",
       "      <td>10.1093/eurheartj/ehaa282</td>\n",
       "      <td></td>\n",
       "      <td>for patients with confirmed and (vi) the varia...</td>\n",
       "      <td>Gaye, Bamba.  Fanidi, Anouar.  Jouven, Xavier</td>\n",
       "      <td>Denominator matters in estimating COVID-19&lt;br...</td>\n",
       "      <td>Eur Heart J</td>\n",
       "      <td>Not provided.</td>\n",
       "    </tr>\n",
       "    <tr>\n",
       "      <th>1</th>\n",
       "      <td>e319b85c3756cf7545dba79fcc24fd6e5722dc54</td>\n",
       "      <td>10.1016/j.ijcard.2020.05.081</td>\n",
       "      <td></td>\n",
       "      <td>J o u r n a l P r e -p r o o f Dear Dr. Müller...</td>\n",
       "      <td>Tan, Weiyi.  Aboulhosn, Jamil</td>\n",
       "      <td>Response to the letter, “The cardiovascular&lt;b...</td>\n",
       "      <td>Int J Cardiol</td>\n",
       "      <td>Not provided.</td>\n",
       "    </tr>\n",
       "    <tr>\n",
       "      <th>2</th>\n",
       "      <td>d389175f2655317284484a9f86a30cf6963b2bf2</td>\n",
       "      <td>10.1016/s0140-6736(20)31489-6</td>\n",
       "      <td></td>\n",
       "      <td>This financial crisis could not have occurred ...</td>\n",
       "      <td>King, Arlene.  Andrus, Jon Kim.  Figueroa, J&lt;...</td>\n",
       "      <td>Financial crisis at PAHO in the time of&lt;br&gt;CO...</td>\n",
       "      <td>Lancet</td>\n",
       "      <td>Not provided.</td>\n",
       "    </tr>\n",
       "    <tr>\n",
       "      <th>3</th>\n",
       "      <td>836c35eebda0eb820560f8383e5d5492f67d473d</td>\n",
       "      <td>10.1097/acm.0000000000003425</td>\n",
       "      <td></td>\n",
       "      <td>To the Editor: The COVID-19 pandemic has disru...</td>\n",
       "      <td>Samarasekera, Dujeepa D..  Goh, Denise Li Men...</td>\n",
       "      <td>Medical School Approach to Manage the Current...</td>\n",
       "      <td>Acad Med</td>\n",
       "      <td>Not provided.</td>\n",
       "    </tr>\n",
       "    <tr>\n",
       "      <th>4</th>\n",
       "      <td>22010a8cb807af4725c06722dbf39646869c1482</td>\n",
       "      <td>10.1001/jamainternmed.2020.1369</td>\n",
       "      <td></td>\n",
       "      <td>Between March 14-16 2020 (a 48-hour period), w...</td>\n",
       "      <td>Nelson, Lorene M..  Simard, Julia F..  Oluyom...</td>\n",
       "      <td>US Public Concerns About the COVID-19 Pandemi...</td>\n",
       "      <td>JAMA Internal Medicine</td>\n",
       "      <td>Not provided.</td>\n",
       "    </tr>\n",
       "  </tbody>\n",
       "</table>\n",
       "</div>"
      ],
      "text/plain": [
       "                                   paper_id                              doi  \\\n",
       "0  041428cc59d31e9134431bc93eb0493db0a22187        10.1093/eurheartj/ehaa282   \n",
       "1  e319b85c3756cf7545dba79fcc24fd6e5722dc54     10.1016/j.ijcard.2020.05.081   \n",
       "2  d389175f2655317284484a9f86a30cf6963b2bf2    10.1016/s0140-6736(20)31489-6   \n",
       "3  836c35eebda0eb820560f8383e5d5492f67d473d     10.1097/acm.0000000000003425   \n",
       "4  22010a8cb807af4725c06722dbf39646869c1482  10.1001/jamainternmed.2020.1369   \n",
       "\n",
       "  abstract                                          body_text  \\\n",
       "0           for patients with confirmed and (vi) the varia...   \n",
       "1           J o u r n a l P r e -p r o o f Dear Dr. Müller...   \n",
       "2           This financial crisis could not have occurred ...   \n",
       "3           To the Editor: The COVID-19 pandemic has disru...   \n",
       "4           Between March 14-16 2020 (a 48-hour period), w...   \n",
       "\n",
       "                                             authors  \\\n",
       "0      Gaye, Bamba.  Fanidi, Anouar.  Jouven, Xavier   \n",
       "1                      Tan, Weiyi.  Aboulhosn, Jamil   \n",
       "2   King, Arlene.  Andrus, Jon Kim.  Figueroa, J<...   \n",
       "3   Samarasekera, Dujeepa D..  Goh, Denise Li Men...   \n",
       "4   Nelson, Lorene M..  Simard, Julia F..  Oluyom...   \n",
       "\n",
       "                                               title                 journal  \\\n",
       "0   Denominator matters in estimating COVID-19<br...             Eur Heart J   \n",
       "1   Response to the letter, “The cardiovascular<b...           Int J Cardiol   \n",
       "2   Financial crisis at PAHO in the time of<br>CO...                  Lancet   \n",
       "3   Medical School Approach to Manage the Current...                Acad Med   \n",
       "4   US Public Concerns About the COVID-19 Pandemi...  JAMA Internal Medicine   \n",
       "\n",
       "  abstract_summary  \n",
       "0    Not provided.  \n",
       "1    Not provided.  \n",
       "2    Not provided.  \n",
       "3    Not provided.  \n",
       "4    Not provided.  "
      ]
     },
     "execution_count": 7,
     "metadata": {},
     "output_type": "execute_result"
    }
   ],
   "source": [
    "dict_ = {'paper_id': [], 'doi':[], 'abstract': [], 'body_text': [], 'authors': [], 'title': [], 'journal': [], 'abstract_summary': []}\n",
    "for idx, entry in enumerate(all_json):\n",
    "    if idx % (len(all_json) // 10) == 0:\n",
    "        print(f'Processing index: {idx} of {len(all_json)}')\n",
    "    \n",
    "    try:\n",
    "        content = FileReader(entry)\n",
    "    except Exception as e:\n",
    "        continue  # invalid paper format, skip\n",
    "    \n",
    "    # get metadata information\n",
    "    meta_data = meta_df.loc[meta_df['sha'] == content.paper_id]\n",
    "    # no metadata, skip this paper\n",
    "    if len(meta_data) == 0:\n",
    "        continue\n",
    "    \n",
    "    dict_['abstract'].append(content.abstract)\n",
    "    dict_['paper_id'].append(content.paper_id)\n",
    "    dict_['body_text'].append(content.body_text)\n",
    "    \n",
    "    # also create a column for the summary of abstract to be used in a plot\n",
    "    if len(content.abstract) == 0: \n",
    "        # no abstract provided\n",
    "        dict_['abstract_summary'].append(\"Not provided.\")\n",
    "    elif len(content.abstract.split(' ')) > 100:\n",
    "        # abstract provided is too long for plot, take first 100 words append with ...\n",
    "        info = content.abstract.split(' ')[:100]\n",
    "        summary = get_breaks(' '.join(info), 40)\n",
    "        dict_['abstract_summary'].append(summary + \"...\")\n",
    "    else:\n",
    "        # abstract is short enough\n",
    "        summary = get_breaks(content.abstract, 40)\n",
    "        dict_['abstract_summary'].append(summary)\n",
    "        \n",
    "    # get metadata information\n",
    "    meta_data = meta_df.loc[meta_df['sha'] == content.paper_id]\n",
    "    \n",
    "    try:\n",
    "        # if more than one author\n",
    "        authors = meta_data['authors'].values[0].split(';')\n",
    "        if len(authors) > 2:\n",
    "            # if more than 2 authors, take them all with html tag breaks in between\n",
    "            dict_['authors'].append(get_breaks('. '.join(authors), 40))\n",
    "        else:\n",
    "            # authors will fit in plot\n",
    "            dict_['authors'].append(\". \".join(authors))\n",
    "    except Exception as e:\n",
    "        # if only one author - or Null valie\n",
    "        dict_['authors'].append(meta_data['authors'].values[0])\n",
    "    \n",
    "    # add the title information, add breaks when needed\n",
    "    try:\n",
    "        title = get_breaks(meta_data['title'].values[0], 40)\n",
    "        dict_['title'].append(title)\n",
    "    # if title was not provided\n",
    "    except Exception as e:\n",
    "        dict_['title'].append(meta_data['title'].values[0])\n",
    "    \n",
    "    # add the journal information\n",
    "    dict_['journal'].append(meta_data['journal'].values[0])\n",
    "    \n",
    "    # add doi\n",
    "    dict_['doi'].append(meta_data['doi'].values[0])\n",
    "    \n",
    "df_covid = pd.DataFrame(dict_, columns=['paper_id', 'doi', 'abstract', 'body_text', 'authors', 'title', 'journal', 'abstract_summary'])\n",
    "df_covid.head()"
   ]
  },
  {
   "cell_type": "markdown",
   "metadata": {},
   "source": [
    "<br>\n",
    "\n",
    "## Some feature engineering"
   ]
  },
  {
   "cell_type": "markdown",
   "metadata": {},
   "source": [
    "Adding word count columns for both abstract and body_text can be useful parameters later:"
   ]
  },
  {
   "cell_type": "code",
   "execution_count": 8,
   "metadata": {},
   "outputs": [
    {
     "data": {
      "text/html": [
       "<div>\n",
       "<style scoped>\n",
       "    .dataframe tbody tr th:only-of-type {\n",
       "        vertical-align: middle;\n",
       "    }\n",
       "\n",
       "    .dataframe tbody tr th {\n",
       "        vertical-align: top;\n",
       "    }\n",
       "\n",
       "    .dataframe thead th {\n",
       "        text-align: right;\n",
       "    }\n",
       "</style>\n",
       "<table border=\"1\" class=\"dataframe\">\n",
       "  <thead>\n",
       "    <tr style=\"text-align: right;\">\n",
       "      <th></th>\n",
       "      <th>paper_id</th>\n",
       "      <th>doi</th>\n",
       "      <th>abstract</th>\n",
       "      <th>body_text</th>\n",
       "      <th>authors</th>\n",
       "      <th>title</th>\n",
       "      <th>journal</th>\n",
       "      <th>abstract_summary</th>\n",
       "      <th>abstract_word_count</th>\n",
       "      <th>body_word_count</th>\n",
       "      <th>body_unique_words</th>\n",
       "    </tr>\n",
       "  </thead>\n",
       "  <tbody>\n",
       "    <tr>\n",
       "      <th>0</th>\n",
       "      <td>041428cc59d31e9134431bc93eb0493db0a22187</td>\n",
       "      <td>10.1093/eurheartj/ehaa282</td>\n",
       "      <td></td>\n",
       "      <td>for patients with confirmed and (vi) the varia...</td>\n",
       "      <td>Gaye, Bamba.  Fanidi, Anouar.  Jouven, Xavier</td>\n",
       "      <td>Denominator matters in estimating COVID-19&lt;br...</td>\n",
       "      <td>Eur Heart J</td>\n",
       "      <td>Not provided.</td>\n",
       "      <td>0</td>\n",
       "      <td>151</td>\n",
       "      <td>107</td>\n",
       "    </tr>\n",
       "    <tr>\n",
       "      <th>1</th>\n",
       "      <td>e319b85c3756cf7545dba79fcc24fd6e5722dc54</td>\n",
       "      <td>10.1016/j.ijcard.2020.05.081</td>\n",
       "      <td></td>\n",
       "      <td>J o u r n a l P r e -p r o o f Dear Dr. Müller...</td>\n",
       "      <td>Tan, Weiyi.  Aboulhosn, Jamil</td>\n",
       "      <td>Response to the letter, “The cardiovascular&lt;b...</td>\n",
       "      <td>Int J Cardiol</td>\n",
       "      <td>Not provided.</td>\n",
       "      <td>0</td>\n",
       "      <td>254</td>\n",
       "      <td>158</td>\n",
       "    </tr>\n",
       "    <tr>\n",
       "      <th>2</th>\n",
       "      <td>d389175f2655317284484a9f86a30cf6963b2bf2</td>\n",
       "      <td>10.1016/s0140-6736(20)31489-6</td>\n",
       "      <td></td>\n",
       "      <td>This financial crisis could not have occurred ...</td>\n",
       "      <td>King, Arlene.  Andrus, Jon Kim.  Figueroa, J&lt;...</td>\n",
       "      <td>Financial crisis at PAHO in the time of&lt;br&gt;CO...</td>\n",
       "      <td>Lancet</td>\n",
       "      <td>Not provided.</td>\n",
       "      <td>0</td>\n",
       "      <td>310</td>\n",
       "      <td>192</td>\n",
       "    </tr>\n",
       "    <tr>\n",
       "      <th>3</th>\n",
       "      <td>836c35eebda0eb820560f8383e5d5492f67d473d</td>\n",
       "      <td>10.1097/acm.0000000000003425</td>\n",
       "      <td></td>\n",
       "      <td>To the Editor: The COVID-19 pandemic has disru...</td>\n",
       "      <td>Samarasekera, Dujeepa D..  Goh, Denise Li Men...</td>\n",
       "      <td>Medical School Approach to Manage the Current...</td>\n",
       "      <td>Acad Med</td>\n",
       "      <td>Not provided.</td>\n",
       "      <td>0</td>\n",
       "      <td>422</td>\n",
       "      <td>260</td>\n",
       "    </tr>\n",
       "    <tr>\n",
       "      <th>4</th>\n",
       "      <td>22010a8cb807af4725c06722dbf39646869c1482</td>\n",
       "      <td>10.1001/jamainternmed.2020.1369</td>\n",
       "      <td></td>\n",
       "      <td>Between March 14-16 2020 (a 48-hour period), w...</td>\n",
       "      <td>Nelson, Lorene M..  Simard, Julia F..  Oluyom...</td>\n",
       "      <td>US Public Concerns About the COVID-19 Pandemi...</td>\n",
       "      <td>JAMA Internal Medicine</td>\n",
       "      <td>Not provided.</td>\n",
       "      <td>0</td>\n",
       "      <td>181</td>\n",
       "      <td>127</td>\n",
       "    </tr>\n",
       "  </tbody>\n",
       "</table>\n",
       "</div>"
      ],
      "text/plain": [
       "                                   paper_id                              doi  \\\n",
       "0  041428cc59d31e9134431bc93eb0493db0a22187        10.1093/eurheartj/ehaa282   \n",
       "1  e319b85c3756cf7545dba79fcc24fd6e5722dc54     10.1016/j.ijcard.2020.05.081   \n",
       "2  d389175f2655317284484a9f86a30cf6963b2bf2    10.1016/s0140-6736(20)31489-6   \n",
       "3  836c35eebda0eb820560f8383e5d5492f67d473d     10.1097/acm.0000000000003425   \n",
       "4  22010a8cb807af4725c06722dbf39646869c1482  10.1001/jamainternmed.2020.1369   \n",
       "\n",
       "  abstract                                          body_text  \\\n",
       "0           for patients with confirmed and (vi) the varia...   \n",
       "1           J o u r n a l P r e -p r o o f Dear Dr. Müller...   \n",
       "2           This financial crisis could not have occurred ...   \n",
       "3           To the Editor: The COVID-19 pandemic has disru...   \n",
       "4           Between March 14-16 2020 (a 48-hour period), w...   \n",
       "\n",
       "                                             authors  \\\n",
       "0      Gaye, Bamba.  Fanidi, Anouar.  Jouven, Xavier   \n",
       "1                      Tan, Weiyi.  Aboulhosn, Jamil   \n",
       "2   King, Arlene.  Andrus, Jon Kim.  Figueroa, J<...   \n",
       "3   Samarasekera, Dujeepa D..  Goh, Denise Li Men...   \n",
       "4   Nelson, Lorene M..  Simard, Julia F..  Oluyom...   \n",
       "\n",
       "                                               title                 journal  \\\n",
       "0   Denominator matters in estimating COVID-19<br...             Eur Heart J   \n",
       "1   Response to the letter, “The cardiovascular<b...           Int J Cardiol   \n",
       "2   Financial crisis at PAHO in the time of<br>CO...                  Lancet   \n",
       "3   Medical School Approach to Manage the Current...                Acad Med   \n",
       "4   US Public Concerns About the COVID-19 Pandemi...  JAMA Internal Medicine   \n",
       "\n",
       "  abstract_summary  abstract_word_count  body_word_count  body_unique_words  \n",
       "0    Not provided.                    0              151                107  \n",
       "1    Not provided.                    0              254                158  \n",
       "2    Not provided.                    0              310                192  \n",
       "3    Not provided.                    0              422                260  \n",
       "4    Not provided.                    0              181                127  "
      ]
     },
     "execution_count": 8,
     "metadata": {},
     "output_type": "execute_result"
    }
   ],
   "source": [
    "df_covid['abstract_word_count'] = df_covid['abstract'].apply(lambda x: len(x.strip().split()))  # word count in abstract\n",
    "df_covid['body_word_count'] = df_covid['body_text'].apply(lambda x: len(x.strip().split()))  # word count in body\n",
    "df_covid['body_unique_words']=df_covid['body_text'].apply(lambda x:len(set(str(x).split())))  # number of unique words in body\n",
    "df_covid.head()"
   ]
  },
  {
   "cell_type": "code",
   "execution_count": 9,
   "metadata": {},
   "outputs": [
    {
     "name": "stdout",
     "output_type": "stream",
     "text": [
      "<class 'pandas.core.frame.DataFrame'>\n",
      "RangeIndex: 188 entries, 0 to 187\n",
      "Data columns (total 11 columns):\n",
      "paper_id               188 non-null object\n",
      "doi                    188 non-null object\n",
      "abstract               188 non-null object\n",
      "body_text              188 non-null object\n",
      "authors                156 non-null object\n",
      "title                  188 non-null object\n",
      "journal                185 non-null object\n",
      "abstract_summary       188 non-null object\n",
      "abstract_word_count    188 non-null int64\n",
      "body_word_count        188 non-null int64\n",
      "body_unique_words      188 non-null int64\n",
      "dtypes: int64(3), object(8)\n",
      "memory usage: 16.3+ KB\n"
     ]
    }
   ],
   "source": [
    "df_covid.info()"
   ]
  },
  {
   "cell_type": "code",
   "execution_count": 10,
   "metadata": {},
   "outputs": [
    {
     "data": {
      "text/plain": [
       "count     188\n",
       "unique     11\n",
       "top          \n",
       "freq      178\n",
       "Name: abstract, dtype: object"
      ]
     },
     "execution_count": 10,
     "metadata": {},
     "output_type": "execute_result"
    }
   ],
   "source": [
    "df_covid['abstract'].describe(include='all')"
   ]
  },
  {
   "cell_type": "markdown",
   "metadata": {},
   "source": [
    "## Handle Possible Duplicates"
   ]
  },
  {
   "cell_type": "markdown",
   "metadata": {},
   "source": [
    "When we look at the unique values above, we can see that tehre are duplicates. It may have caused because of author submiting the article to multiple journals. Let's remove the duplicats from our dataset:"
   ]
  },
  {
   "cell_type": "code",
   "execution_count": 11,
   "metadata": {},
   "outputs": [
    {
     "data": {
      "text/plain": [
       "count     187\n",
       "unique     11\n",
       "top          \n",
       "freq      177\n",
       "Name: abstract, dtype: object"
      ]
     },
     "execution_count": 11,
     "metadata": {},
     "output_type": "execute_result"
    }
   ],
   "source": [
    "df_covid.drop_duplicates(['abstract', 'body_text'], inplace=True)\n",
    "df_covid['abstract'].describe(include='all')"
   ]
  },
  {
   "cell_type": "code",
   "execution_count": 12,
   "metadata": {},
   "outputs": [
    {
     "data": {
      "text/plain": [
       "count         187\n",
       "unique        187\n",
       "top       Report \n",
       "freq            1\n",
       "Name: body_text, dtype: object"
      ]
     },
     "execution_count": 12,
     "metadata": {},
     "output_type": "execute_result"
    }
   ],
   "source": [
    "df_covid['body_text'].describe(include='all')"
   ]
  },
  {
   "cell_type": "markdown",
   "metadata": {},
   "source": [
    "It looks like we didn't have duplicates. Instead, it was articles without Abstracts."
   ]
  },
  {
   "cell_type": "markdown",
   "metadata": {},
   "source": [
    "## Take a Look at the Data:"
   ]
  },
  {
   "cell_type": "code",
   "execution_count": 13,
   "metadata": {},
   "outputs": [
    {
     "data": {
      "text/html": [
       "<div>\n",
       "<style scoped>\n",
       "    .dataframe tbody tr th:only-of-type {\n",
       "        vertical-align: middle;\n",
       "    }\n",
       "\n",
       "    .dataframe tbody tr th {\n",
       "        vertical-align: top;\n",
       "    }\n",
       "\n",
       "    .dataframe thead th {\n",
       "        text-align: right;\n",
       "    }\n",
       "</style>\n",
       "<table border=\"1\" class=\"dataframe\">\n",
       "  <thead>\n",
       "    <tr style=\"text-align: right;\">\n",
       "      <th></th>\n",
       "      <th>paper_id</th>\n",
       "      <th>doi</th>\n",
       "      <th>abstract</th>\n",
       "      <th>body_text</th>\n",
       "      <th>authors</th>\n",
       "      <th>title</th>\n",
       "      <th>journal</th>\n",
       "      <th>abstract_summary</th>\n",
       "      <th>abstract_word_count</th>\n",
       "      <th>body_word_count</th>\n",
       "      <th>body_unique_words</th>\n",
       "    </tr>\n",
       "  </thead>\n",
       "  <tbody>\n",
       "    <tr>\n",
       "      <th>0</th>\n",
       "      <td>041428cc59d31e9134431bc93eb0493db0a22187</td>\n",
       "      <td>10.1093/eurheartj/ehaa282</td>\n",
       "      <td></td>\n",
       "      <td>for patients with confirmed and (vi) the varia...</td>\n",
       "      <td>Gaye, Bamba.  Fanidi, Anouar.  Jouven, Xavier</td>\n",
       "      <td>Denominator matters in estimating COVID-19&lt;br...</td>\n",
       "      <td>Eur Heart J</td>\n",
       "      <td>Not provided.</td>\n",
       "      <td>0</td>\n",
       "      <td>151</td>\n",
       "      <td>107</td>\n",
       "    </tr>\n",
       "    <tr>\n",
       "      <th>1</th>\n",
       "      <td>e319b85c3756cf7545dba79fcc24fd6e5722dc54</td>\n",
       "      <td>10.1016/j.ijcard.2020.05.081</td>\n",
       "      <td></td>\n",
       "      <td>J o u r n a l P r e -p r o o f Dear Dr. Müller...</td>\n",
       "      <td>Tan, Weiyi.  Aboulhosn, Jamil</td>\n",
       "      <td>Response to the letter, “The cardiovascular&lt;b...</td>\n",
       "      <td>Int J Cardiol</td>\n",
       "      <td>Not provided.</td>\n",
       "      <td>0</td>\n",
       "      <td>254</td>\n",
       "      <td>158</td>\n",
       "    </tr>\n",
       "    <tr>\n",
       "      <th>2</th>\n",
       "      <td>d389175f2655317284484a9f86a30cf6963b2bf2</td>\n",
       "      <td>10.1016/s0140-6736(20)31489-6</td>\n",
       "      <td></td>\n",
       "      <td>This financial crisis could not have occurred ...</td>\n",
       "      <td>King, Arlene.  Andrus, Jon Kim.  Figueroa, J&lt;...</td>\n",
       "      <td>Financial crisis at PAHO in the time of&lt;br&gt;CO...</td>\n",
       "      <td>Lancet</td>\n",
       "      <td>Not provided.</td>\n",
       "      <td>0</td>\n",
       "      <td>310</td>\n",
       "      <td>192</td>\n",
       "    </tr>\n",
       "    <tr>\n",
       "      <th>3</th>\n",
       "      <td>836c35eebda0eb820560f8383e5d5492f67d473d</td>\n",
       "      <td>10.1097/acm.0000000000003425</td>\n",
       "      <td></td>\n",
       "      <td>To the Editor: The COVID-19 pandemic has disru...</td>\n",
       "      <td>Samarasekera, Dujeepa D..  Goh, Denise Li Men...</td>\n",
       "      <td>Medical School Approach to Manage the Current...</td>\n",
       "      <td>Acad Med</td>\n",
       "      <td>Not provided.</td>\n",
       "      <td>0</td>\n",
       "      <td>422</td>\n",
       "      <td>260</td>\n",
       "    </tr>\n",
       "    <tr>\n",
       "      <th>4</th>\n",
       "      <td>22010a8cb807af4725c06722dbf39646869c1482</td>\n",
       "      <td>10.1001/jamainternmed.2020.1369</td>\n",
       "      <td></td>\n",
       "      <td>Between March 14-16 2020 (a 48-hour period), w...</td>\n",
       "      <td>Nelson, Lorene M..  Simard, Julia F..  Oluyom...</td>\n",
       "      <td>US Public Concerns About the COVID-19 Pandemi...</td>\n",
       "      <td>JAMA Internal Medicine</td>\n",
       "      <td>Not provided.</td>\n",
       "      <td>0</td>\n",
       "      <td>181</td>\n",
       "      <td>127</td>\n",
       "    </tr>\n",
       "  </tbody>\n",
       "</table>\n",
       "</div>"
      ],
      "text/plain": [
       "                                   paper_id                              doi  \\\n",
       "0  041428cc59d31e9134431bc93eb0493db0a22187        10.1093/eurheartj/ehaa282   \n",
       "1  e319b85c3756cf7545dba79fcc24fd6e5722dc54     10.1016/j.ijcard.2020.05.081   \n",
       "2  d389175f2655317284484a9f86a30cf6963b2bf2    10.1016/s0140-6736(20)31489-6   \n",
       "3  836c35eebda0eb820560f8383e5d5492f67d473d     10.1097/acm.0000000000003425   \n",
       "4  22010a8cb807af4725c06722dbf39646869c1482  10.1001/jamainternmed.2020.1369   \n",
       "\n",
       "  abstract                                          body_text  \\\n",
       "0           for patients with confirmed and (vi) the varia...   \n",
       "1           J o u r n a l P r e -p r o o f Dear Dr. Müller...   \n",
       "2           This financial crisis could not have occurred ...   \n",
       "3           To the Editor: The COVID-19 pandemic has disru...   \n",
       "4           Between March 14-16 2020 (a 48-hour period), w...   \n",
       "\n",
       "                                             authors  \\\n",
       "0      Gaye, Bamba.  Fanidi, Anouar.  Jouven, Xavier   \n",
       "1                      Tan, Weiyi.  Aboulhosn, Jamil   \n",
       "2   King, Arlene.  Andrus, Jon Kim.  Figueroa, J<...   \n",
       "3   Samarasekera, Dujeepa D..  Goh, Denise Li Men...   \n",
       "4   Nelson, Lorene M..  Simard, Julia F..  Oluyom...   \n",
       "\n",
       "                                               title                 journal  \\\n",
       "0   Denominator matters in estimating COVID-19<br...             Eur Heart J   \n",
       "1   Response to the letter, “The cardiovascular<b...           Int J Cardiol   \n",
       "2   Financial crisis at PAHO in the time of<br>CO...                  Lancet   \n",
       "3   Medical School Approach to Manage the Current...                Acad Med   \n",
       "4   US Public Concerns About the COVID-19 Pandemi...  JAMA Internal Medicine   \n",
       "\n",
       "  abstract_summary  abstract_word_count  body_word_count  body_unique_words  \n",
       "0    Not provided.                    0              151                107  \n",
       "1    Not provided.                    0              254                158  \n",
       "2    Not provided.                    0              310                192  \n",
       "3    Not provided.                    0              422                260  \n",
       "4    Not provided.                    0              181                127  "
      ]
     },
     "execution_count": 13,
     "metadata": {},
     "output_type": "execute_result"
    }
   ],
   "source": [
    "df_covid.head()"
   ]
  },
  {
   "cell_type": "markdown",
   "metadata": {},
   "source": [
    "In the majority of this notebook we will be working with **body_text** <br>\n",
    "Links to the papers will be generated using **doi** "
   ]
  },
  {
   "cell_type": "code",
   "execution_count": 14,
   "metadata": {},
   "outputs": [
    {
     "data": {
      "text/html": [
       "<div>\n",
       "<style scoped>\n",
       "    .dataframe tbody tr th:only-of-type {\n",
       "        vertical-align: middle;\n",
       "    }\n",
       "\n",
       "    .dataframe tbody tr th {\n",
       "        vertical-align: top;\n",
       "    }\n",
       "\n",
       "    .dataframe thead th {\n",
       "        text-align: right;\n",
       "    }\n",
       "</style>\n",
       "<table border=\"1\" class=\"dataframe\">\n",
       "  <thead>\n",
       "    <tr style=\"text-align: right;\">\n",
       "      <th></th>\n",
       "      <th>abstract_word_count</th>\n",
       "      <th>body_word_count</th>\n",
       "      <th>body_unique_words</th>\n",
       "    </tr>\n",
       "  </thead>\n",
       "  <tbody>\n",
       "    <tr>\n",
       "      <th>count</th>\n",
       "      <td>187.000000</td>\n",
       "      <td>187.000000</td>\n",
       "      <td>187.000000</td>\n",
       "    </tr>\n",
       "    <tr>\n",
       "      <th>mean</th>\n",
       "      <td>5.780749</td>\n",
       "      <td>228.700535</td>\n",
       "      <td>146.251337</td>\n",
       "    </tr>\n",
       "    <tr>\n",
       "      <th>std</th>\n",
       "      <td>31.205701</td>\n",
       "      <td>133.739741</td>\n",
       "      <td>76.087569</td>\n",
       "    </tr>\n",
       "    <tr>\n",
       "      <th>min</th>\n",
       "      <td>0.000000</td>\n",
       "      <td>1.000000</td>\n",
       "      <td>1.000000</td>\n",
       "    </tr>\n",
       "    <tr>\n",
       "      <th>25%</th>\n",
       "      <td>0.000000</td>\n",
       "      <td>120.500000</td>\n",
       "      <td>84.500000</td>\n",
       "    </tr>\n",
       "    <tr>\n",
       "      <th>50%</th>\n",
       "      <td>0.000000</td>\n",
       "      <td>222.000000</td>\n",
       "      <td>146.000000</td>\n",
       "    </tr>\n",
       "    <tr>\n",
       "      <th>75%</th>\n",
       "      <td>0.000000</td>\n",
       "      <td>336.000000</td>\n",
       "      <td>209.500000</td>\n",
       "    </tr>\n",
       "    <tr>\n",
       "      <th>max</th>\n",
       "      <td>256.000000</td>\n",
       "      <td>662.000000</td>\n",
       "      <td>351.000000</td>\n",
       "    </tr>\n",
       "  </tbody>\n",
       "</table>\n",
       "</div>"
      ],
      "text/plain": [
       "       abstract_word_count  body_word_count  body_unique_words\n",
       "count           187.000000       187.000000         187.000000\n",
       "mean              5.780749       228.700535         146.251337\n",
       "std              31.205701       133.739741          76.087569\n",
       "min               0.000000         1.000000           1.000000\n",
       "25%               0.000000       120.500000          84.500000\n",
       "50%               0.000000       222.000000         146.000000\n",
       "75%               0.000000       336.000000         209.500000\n",
       "max             256.000000       662.000000         351.000000"
      ]
     },
     "execution_count": 14,
     "metadata": {},
     "output_type": "execute_result"
    }
   ],
   "source": [
    "df_covid.describe()"
   ]
  },
  {
   "cell_type": "markdown",
   "metadata": {},
   "source": [
    "# Data Pre-processing"
   ]
  },
  {
   "cell_type": "code",
   "execution_count": 15,
   "metadata": {},
   "outputs": [],
   "source": [
    "#rename to df for ease of use\n",
    "df = df_covid\n",
    "del df_covid"
   ]
  },
  {
   "cell_type": "markdown",
   "metadata": {},
   "source": [
    "Now that we have our dataset loaded, we need to clean-up the text to improve any clustering or classification efforts. First, let's drop Null vales:"
   ]
  },
  {
   "cell_type": "code",
   "execution_count": 16,
   "metadata": {},
   "outputs": [
    {
     "name": "stdout",
     "output_type": "stream",
     "text": [
      "<class 'pandas.core.frame.DataFrame'>\n",
      "Int64Index: 156 entries, 0 to 187\n",
      "Data columns (total 11 columns):\n",
      "paper_id               156 non-null object\n",
      "doi                    156 non-null object\n",
      "abstract               156 non-null object\n",
      "body_text              156 non-null object\n",
      "authors                156 non-null object\n",
      "title                  156 non-null object\n",
      "journal                156 non-null object\n",
      "abstract_summary       156 non-null object\n",
      "abstract_word_count    156 non-null int64\n",
      "body_word_count        156 non-null int64\n",
      "body_unique_words      156 non-null int64\n",
      "dtypes: int64(3), object(8)\n",
      "memory usage: 14.6+ KB\n"
     ]
    }
   ],
   "source": [
    "df.dropna(inplace=True)\n",
    "df.info()"
   ]
  },
  {
   "cell_type": "markdown",
   "metadata": {},
   "source": [
    "### Handling multiple languages\n",
    "Next we are going to determine the language of each paper in the dataframe. Not all of the sources are English and the language needs to be identified so that we know how handle these instances"
   ]
  },
  {
   "cell_type": "code",
   "execution_count": 17,
   "metadata": {},
   "outputs": [
    {
     "name": "stderr",
     "output_type": "stream",
     "text": [
      "100%|██████████| 156/156 [00:01<00:00, 149.28it/s]\n"
     ]
    }
   ],
   "source": [
    "from tqdm import tqdm\n",
    "from langdetect import detect\n",
    "from langdetect import DetectorFactory\n",
    "\n",
    "# set seed\n",
    "DetectorFactory.seed = 0\n",
    "\n",
    "# hold label - language\n",
    "languages = []\n",
    "\n",
    "# go through each text\n",
    "for ii in tqdm(range(0,len(df))):\n",
    "    # split by space into list, take the first x intex, join with space\n",
    "    text = df.iloc[ii]['body_text'].split(\" \")\n",
    "    \n",
    "    lang = \"en\"\n",
    "    try:\n",
    "        if len(text) > 50:\n",
    "            lang = detect(\" \".join(text[:50]))\n",
    "        elif len(text) > 0:\n",
    "            lang = detect(\" \".join(text[:len(text)]))\n",
    "    # ught... beginning of the document was not in a good format\n",
    "    except Exception as e:\n",
    "        all_words = set(text)\n",
    "        try:\n",
    "            lang = detect(\" \".join(all_words))\n",
    "        # what!! :( let's see if we can find any text in abstract...\n",
    "        except Exception as e:\n",
    "            \n",
    "            try:\n",
    "                # let's try to label it through the abstract then\n",
    "                lang = detect(df.iloc[ii]['abstract_summary'])\n",
    "            except Exception as e:\n",
    "                lang = \"unknown\"\n",
    "                pass\n",
    "    \n",
    "    # get the language    \n",
    "    languages.append(lang)"
   ]
  },
  {
   "cell_type": "code",
   "execution_count": 18,
   "metadata": {},
   "outputs": [
    {
     "name": "stdout",
     "output_type": "stream",
     "text": [
      "Total: 156\n",
      "\n",
      "{'af': 1, 'cy': 2, 'de': 2, 'en': 142, 'es': 3, 'fr': 5, 'tl': 1}\n"
     ]
    }
   ],
   "source": [
    "from pprint import pprint\n",
    "\n",
    "languages_dict = {}\n",
    "for lang in set(languages):\n",
    "    languages_dict[lang] = languages.count(lang)\n",
    "    \n",
    "print(\"Total: {}\\n\".format(len(languages)))\n",
    "pprint(languages_dict)"
   ]
  },
  {
   "cell_type": "markdown",
   "metadata": {},
   "source": [
    "Lets take a look at the language distribution in the dataset"
   ]
  },
  {
   "cell_type": "code",
   "execution_count": 19,
   "metadata": {},
   "outputs": [
    {
     "data": {
      "image/png": "[encoded data removed]",
      "text/plain": [
       "<Figure size 432x288 with 1 Axes>"
      ]
     },
     "metadata": {},
     "output_type": "display_data"
    }
   ],
   "source": [
    "df['language'] = languages\n",
    "plt.bar(range(len(languages_dict)), list(languages_dict.values()), align='center')\n",
    "plt.xticks(range(len(languages_dict)), list(languages_dict.keys()))\n",
    "plt.title(\"Distribution of Languages in Dataset\")\n",
    "plt.show()"
   ]
  },
  {
   "cell_type": "markdown",
   "metadata": {},
   "source": [
    "\n",
    "We will be dropping any language that is not English. Attempting to translate foreign texts gave the following problems:\n",
    "\n",
    "1. API calls were limited\n",
    "\n",
    "2. Translating the language may not carry over the true semantic meaning of the text\n"
   ]
  },
  {
   "cell_type": "code",
   "execution_count": 20,
   "metadata": {},
   "outputs": [
    {
     "name": "stdout",
     "output_type": "stream",
     "text": [
      "<class 'pandas.core.frame.DataFrame'>\n",
      "Int64Index: 142 entries, 0 to 187\n",
      "Data columns (total 12 columns):\n",
      "paper_id               142 non-null object\n",
      "doi                    142 non-null object\n",
      "abstract               142 non-null object\n",
      "body_text              142 non-null object\n",
      "authors                142 non-null object\n",
      "title                  142 non-null object\n",
      "journal                142 non-null object\n",
      "abstract_summary       142 non-null object\n",
      "abstract_word_count    142 non-null int64\n",
      "body_word_count        142 non-null int64\n",
      "body_unique_words      142 non-null int64\n",
      "language               142 non-null object\n",
      "dtypes: int64(3), object(9)\n",
      "memory usage: 14.4+ KB\n"
     ]
    }
   ],
   "source": [
    "df = df[df['language'] == 'en'] \n",
    "df.info()"
   ]
  },
  {
   "cell_type": "markdown",
   "metadata": {},
   "source": [
    "Download the spacy bio parser. <br>\n",
    "io is used to hide the messy download"
   ]
  },
  {
   "cell_type": "code",
   "execution_count": 21,
   "metadata": {},
   "outputs": [],
   "source": [
    "from IPython.utils import io\n",
    "\n",
    "with io.capture_output() as captured:\n",
    "    !pip install https://s3-us-west-2.amazonaws.com/ai2-s2-scispacy/releases/v0.2.4/en_core_sci_lg-0.2.4.tar.gz   "
   ]
  },
  {
   "cell_type": "code",
   "execution_count": 22,
   "metadata": {},
   "outputs": [
    {
     "name": "stderr",
     "output_type": "stream",
     "text": [
      "/Users/avinashshanker/opt/anaconda3/lib/python3.7/site-packages/spacy/util.py:275: UserWarning: [W031] Model 'en_core_sci_lg' (0.2.4) requires spaCy v2.2 and is incompatible with the current spaCy version (2.3.2). This may lead to unexpected results or runtime errors. To resolve this, download a newer compatible model or retrain your custom model with the current spaCy version. For more details and available updates, run: python -m spacy validate\n",
      "  warnings.warn(warn_msg)\n"
     ]
    }
   ],
   "source": [
    "#NLP \n",
    "import spacy\n",
    "from spacy.lang.en.stop_words import STOP_WORDS\n",
    "import en_core_sci_lg"
   ]
  },
  {
   "cell_type": "markdown",
   "metadata": {},
   "source": [
    "### Stopwords\n",
    "\n",
    "Part of the preprocessing will be finding and removing stopwords (common words that will act as noise in the clustering step)."
   ]
  },
  {
   "cell_type": "code",
   "execution_count": 23,
   "metadata": {},
   "outputs": [
    {
     "data": {
      "text/plain": [
       "['seemed',\n",
       " 'through',\n",
       " 'somehow',\n",
       " 'go',\n",
       " 'beside',\n",
       " 'across',\n",
       " 'part',\n",
       " 'amount',\n",
       " 'further',\n",
       " 'hers']"
      ]
     },
     "execution_count": 23,
     "metadata": {},
     "output_type": "execute_result"
    }
   ],
   "source": [
    "import string\n",
    "\n",
    "punctuations = string.punctuation\n",
    "stopwords = list(STOP_WORDS)\n",
    "stopwords[:10]"
   ]
  },
  {
   "cell_type": "markdown",
   "metadata": {},
   "source": [
    "Now the above stopwords are used in everyday english text. Research papers will often frequently use words that don't actually contribute to the meaning and are not considered everyday stopwords.\n",
    "\n",
    "Thank you Daniel Wolffram for the idea.\n",
    "#### Cite: [Custom Stop Words | Topic Modeling: Finding Related Articles](https://www.kaggle.com/danielwolffram/topic-modeling-finding-related-articles)"
   ]
  },
  {
   "cell_type": "code",
   "execution_count": 24,
   "metadata": {},
   "outputs": [],
   "source": [
    "custom_stop_words = [\n",
    "    'doi', 'preprint', 'copyright', 'peer', 'reviewed', 'org', 'https', 'et', 'al', 'author', 'figure', \n",
    "    'rights', 'reserved', 'permission', 'used', 'using', 'biorxiv', 'medrxiv', 'license', 'fig', 'fig.', \n",
    "    'al.', 'Elsevier', 'PMC', 'CZI', 'www'\n",
    "]\n",
    "\n",
    "for w in custom_stop_words:\n",
    "    if w not in stopwords:\n",
    "        stopwords.append(w)"
   ]
  },
  {
   "cell_type": "markdown",
   "metadata": {},
   "source": [
    "### Next lets create a function that will process the text data for us. \n",
    "For this purpose we will be using the spacy library. This function will convert text to lower case, remove punctuation, and find and remove stopwords. For the parser, we will use en_core_sci_lg. This is a model for processing biomedical, scientific or clinical text."
   ]
  },
  {
   "cell_type": "code",
   "execution_count": 25,
   "metadata": {},
   "outputs": [],
   "source": [
    "# Parser\n",
    "parser = en_core_sci_lg.load(disable=[\"tagger\", \"ner\"])\n",
    "parser.max_length = 7000000\n",
    "\n",
    "def spacy_tokenizer(sentence):\n",
    "    mytokens = parser(sentence)\n",
    "    mytokens = [ word.lemma_.lower().strip() if word.lemma_ != \"-PRON-\" else word.lower_ for word in mytokens ]\n",
    "    mytokens = [ word for word in mytokens if word not in stopwords and word not in punctuations ]\n",
    "    mytokens = \" \".join([i for i in mytokens])\n",
    "    return mytokens"
   ]
  },
  {
   "cell_type": "markdown",
   "metadata": {},
   "source": [
    "Applying the text-processing function on the **body_text**. "
   ]
  },
  {
   "cell_type": "code",
   "execution_count": 26,
   "metadata": {},
   "outputs": [
    {
     "name": "stderr",
     "output_type": "stream",
     "text": [
      "/Users/avinashshanker/opt/anaconda3/lib/python3.7/site-packages/tqdm/std.py:668: FutureWarning: The Panel class is removed from pandas. Accessing it from the top-level namespace will also be removed in the next version\n",
      "  from pandas import Panel\n",
      "100%|██████████| 142/142 [00:02<00:00, 52.47it/s]\n"
     ]
    }
   ],
   "source": [
    "tqdm.pandas()\n",
    "df[\"processed_text\"] = df[\"body_text\"].progress_apply(spacy_tokenizer)"
   ]
  },
  {
   "cell_type": "markdown",
   "metadata": {},
   "source": [
    "### Let's take a look at word count in the papers"
   ]
  },
  {
   "cell_type": "code",
   "execution_count": 27,
   "metadata": {},
   "outputs": [],
   "source": [
    "import seaborn as sns"
   ]
  },
  {
   "cell_type": "code",
   "execution_count": 28,
   "metadata": {},
   "outputs": [
    {
     "data": {
      "text/plain": [
       "count    142.000000\n",
       "mean     229.852113\n",
       "std      130.844011\n",
       "min        3.000000\n",
       "25%      124.750000\n",
       "50%      221.500000\n",
       "75%      332.500000\n",
       "max      662.000000\n",
       "Name: body_word_count, dtype: float64"
      ]
     },
     "execution_count": 28,
     "metadata": {},
     "output_type": "execute_result"
    },
    {
     "data": {
      "image/png": "[encoded data removed]",
      "text/plain": [
       "<Figure size 432x288 with 1 Axes>"
      ]
     },
     "metadata": {},
     "output_type": "display_data"
    }
   ],
   "source": [
    "sns.distplot(df['body_word_count'])\n",
    "df['body_word_count'].describe()"
   ]
  },
  {
   "cell_type": "code",
   "execution_count": 29,
   "metadata": {},
   "outputs": [
    {
     "data": {
      "text/plain": [
       "count    142.000000\n",
       "mean     148.478873\n",
       "std       74.590106\n",
       "min        3.000000\n",
       "25%       88.250000\n",
       "50%      144.500000\n",
       "75%      210.000000\n",
       "max      351.000000\n",
       "Name: body_unique_words, dtype: float64"
      ]
     },
     "execution_count": 29,
     "metadata": {},
     "output_type": "execute_result"
    },
    {
     "data": {
      "image/png": "[encoded data removed]",
      "text/plain": [
       "<Figure size 432x288 with 1 Axes>"
      ]
     },
     "metadata": {},
     "output_type": "display_data"
    }
   ],
   "source": [
    "sns.distplot(df['body_unique_words'])\n",
    "df['body_unique_words'].describe()"
   ]
  },
  {
   "cell_type": "markdown",
   "metadata": {},
   "source": [
    "# Vectorization\n",
    "\n",
    "Now that we have pre-processed the data, it is time to convert it into a format that can be handled by our algorithms. For this purpose we will be using tf-idf. This will convert our string formatted data into a measure of how important each word is to the instance out of the literature as a whole."
   ]
  },
  {
   "cell_type": "code",
   "execution_count": 30,
   "metadata": {},
   "outputs": [],
   "source": [
    "from sklearn.feature_extraction.text import TfidfVectorizer\n",
    "def vectorize(text, maxx_features):\n",
    "    \n",
    "    vectorizer = TfidfVectorizer(max_features=maxx_features)\n",
    "    X = vectorizer.fit_transform(text)\n",
    "    return X"
   ]
  },
  {
   "cell_type": "markdown",
   "metadata": {},
   "source": [
    "Vectorize our data. We will be clustering based off the content of the body text. The maximum number of features will be limited. Only the top 2 ** 12 features will be used, eseentially acting as a noise filter. Additionally, more features cause painfully long runtimes."
   ]
  },
  {
   "cell_type": "code",
   "execution_count": 31,
   "metadata": {},
   "outputs": [
    {
     "data": {
      "text/plain": [
       "(142, 4096)"
      ]
     },
     "execution_count": 31,
     "metadata": {},
     "output_type": "execute_result"
    }
   ],
   "source": [
    "text = df['processed_text'].values\n",
    "X = vectorize(text, 2 ** 12)\n",
    "X.shape"
   ]
  },
  {
   "cell_type": "markdown",
   "metadata": {},
   "source": [
    "# Next steps.. PCA  & Clustering\n",
    "1. Next we need to see how much we can reduce the dimensions while still keeping high variance.\n",
    "2. We will apply Principle Component Analysis (PCA) to our vectorized data. The reason for this is that by keeping a large number of dimensions with PCA, you don’t destroy much of the information, but hopefully will remove some noise/outliers from the data, and make the clustering problem easier for k-means."
   ]
  }
 ],
 "metadata": {
  "kernelspec": {
   "display_name": "Python 3",
   "language": "python",
   "name": "python3"
  },
  "language_info": {
   "codemirror_mode": {
    "name": "ipython",
    "version": 3
   },
   "file_extension": ".py",
   "mimetype": "text/x-python",
   "name": "python",
   "nbconvert_exporter": "python",
   "pygments_lexer": "ipython3",
   "version": "3.7.5"
  }
 },
 "nbformat": 4,
 "nbformat_minor": 2
}
